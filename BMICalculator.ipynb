{
 "cells": [
  {
   "cell_type": "code",
   "execution_count": 13,
   "id": "d9d950e8-ed7e-4ab6-b4dc-7cbf72258177",
   "metadata": {},
   "outputs": [
    {
     "name": "stdin",
     "output_type": "stream",
     "text": [
      "Please enter your name:  Sam\n",
      " Please enter your weight in pounds:  172\n",
      "Please enter your height in inches:  58.5\n"
     ]
    },
    {
     "name": "stdout",
     "output_type": "stream",
     "text": [
      "35.332310614361894\n",
      "Sam you are severly obese.\n"
     ]
    }
   ],
   "source": [
    "#Creating a BMI Calculator\n",
    "\n",
    "#Declaring Variables for BMI\n",
    "name = input(\"Please enter your name: \" )\n",
    "weight = int(input(\" Please enter your weight in pounds: \"))\n",
    "height = float(input(\"Please enter your height in inches: \"))\n",
    "\n",
    "\n",
    "bmi = (weight * 703) / (height*height )\n",
    "print(bmi)\n",
    "\n",
    "if bmi> 0:\n",
    "    if (bmi < 18.5):\n",
    "        print(name + \" you are overweight.\")\n",
    "    elif( bmi < 24.9):\n",
    "        print ( name + \" you are normal weight.\") \n",
    "    elif( bmi < 29.9):\n",
    "        print ( name + \" you are  overweight.\") \n",
    "    elif( bmi < 34.9):\n",
    "        print ( name + \" you are obese.\") \n",
    "    elif( bmi < 39.9):\n",
    "        print ( name + \" you are severly obese.\") \n",
    "    else:\n",
    "        print (name + \" you are morbidly obese.\") \n",
    "else: \n",
    "    print(\"Enter Valid Input\")\n",
    "           \n",
    "\n"
   ]
  },
  {
   "cell_type": "code",
   "execution_count": null,
   "id": "79e36b34-bbb9-4be5-9c61-88e26ac65ecd",
   "metadata": {},
   "outputs": [],
   "source": [
    "\n"
   ]
  },
  {
   "cell_type": "code",
   "execution_count": null,
   "id": "c6c90f23-a57e-4ef7-83da-9a02e35dc224",
   "metadata": {},
   "outputs": [],
   "source": []
  },
  {
   "cell_type": "code",
   "execution_count": null,
   "id": "a0be474a-3416-4f4b-8334-be6b8adba37c",
   "metadata": {},
   "outputs": [],
   "source": []
  },
  {
   "cell_type": "code",
   "execution_count": null,
   "id": "16b1dd7c-978a-439e-b894-3dd16f4dc66a",
   "metadata": {},
   "outputs": [],
   "source": []
  },
  {
   "cell_type": "code",
   "execution_count": null,
   "id": "d3402175-fc49-4569-af6a-53a664dd5293",
   "metadata": {},
   "outputs": [],
   "source": []
  },
  {
   "cell_type": "code",
   "execution_count": null,
   "id": "4bc03108-a204-4305-93db-5d0ac720d0f8",
   "metadata": {},
   "outputs": [],
   "source": []
  },
  {
   "cell_type": "code",
   "execution_count": null,
   "id": "75f51e1e-43a4-4921-bfe5-3e0ea453d86c",
   "metadata": {},
   "outputs": [],
   "source": []
  },
  {
   "cell_type": "code",
   "execution_count": null,
   "id": "f052e286-cfda-494c-b1ad-cb63f6bd0576",
   "metadata": {},
   "outputs": [],
   "source": []
  },
  {
   "cell_type": "code",
   "execution_count": null,
   "id": "c725e9ed-4baf-46f4-a338-fdc692be6444",
   "metadata": {},
   "outputs": [],
   "source": []
  },
  {
   "cell_type": "code",
   "execution_count": null,
   "id": "71a376da-61ee-437f-8642-3a70a0a81460",
   "metadata": {},
   "outputs": [],
   "source": []
  },
  {
   "cell_type": "code",
   "execution_count": null,
   "id": "cfd336de-6e7a-4a7f-96bc-00133bed3b4d",
   "metadata": {},
   "outputs": [],
   "source": []
  }
 ],
 "metadata": {
  "kernelspec": {
   "display_name": "Python 3 (ipykernel)",
   "language": "python",
   "name": "python3"
  },
  "language_info": {
   "codemirror_mode": {
    "name": "ipython",
    "version": 3
   },
   "file_extension": ".py",
   "mimetype": "text/x-python",
   "name": "python",
   "nbconvert_exporter": "python",
   "pygments_lexer": "ipython3",
   "version": "3.11.7"
  }
 },
 "nbformat": 4,
 "nbformat_minor": 5
}
