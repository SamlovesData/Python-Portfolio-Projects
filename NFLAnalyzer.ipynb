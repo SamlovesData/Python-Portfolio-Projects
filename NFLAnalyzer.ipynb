{
 "cells": [
  {
   "cell_type": "code",
   "execution_count": null,
   "id": "50eecf92-4386-4c93-b591-b61390a15ba6",
   "metadata": {},
   "outputs": [],
   "source": [
    "#Analyze NFL Stats with PYthon "
   ]
  },
  {
   "cell_type": "code",
   "execution_count": null,
   "id": "39857eb8-3d69-48f8-bbd7-21baa657727e",
   "metadata": {},
   "outputs": [],
   "source": [
    "\n",
    "# Step 1 Import Libraries \n"
   ]
  },
  {
   "cell_type": "code",
   "execution_count": 132,
   "id": "f91c46df-123a-4eb7-87ba-cf7621675686",
   "metadata": {},
   "outputs": [],
   "source": [
    "import numpy as np \n",
    "import pandas as pd \n",
    "from sklearn.linear_model import LogisticRegression\n",
    "from sklearn.preprocessing import StandardScaler\n",
    "from sklearn.model_selection import train_test_split\n",
    "from sklearn.metrics import accuracy_score \n",
    "import matplotlib.pyplot as plt \n",
    "import seaborn as sns\n",
    "%matplotlib inline \n",
    "\n"
   ]
  },
  {
   "cell_type": "code",
   "execution_count": 172,
   "id": "287cf3e9-31aa-495a-b936-601f654a3ef5",
   "metadata": {},
   "outputs": [
    {
     "data": {
      "text/html": [
       "<div>\n",
       "<style scoped>\n",
       "    .dataframe tbody tr th:only-of-type {\n",
       "        vertical-align: middle;\n",
       "    }\n",
       "\n",
       "    .dataframe tbody tr th {\n",
       "        vertical-align: top;\n",
       "    }\n",
       "\n",
       "    .dataframe thead th {\n",
       "        text-align: right;\n",
       "    }\n",
       "</style>\n",
       "<table border=\"1\" class=\"dataframe\">\n",
       "  <thead>\n",
       "    <tr style=\"text-align: right;\">\n",
       "      <th></th>\n",
       "      <th>week</th>\n",
       "      <th>day</th>\n",
       "      <th>date</th>\n",
       "      <th>result</th>\n",
       "      <th>opponent</th>\n",
       "      <th>tm_score</th>\n",
       "      <th>opp_score</th>\n",
       "      <th>1stD_offense</th>\n",
       "      <th>TotYd_offense</th>\n",
       "      <th>PassY_offense</th>\n",
       "      <th>RushY_offense</th>\n",
       "      <th>TO_offense</th>\n",
       "      <th>1stD_defense</th>\n",
       "      <th>Totyd_defense</th>\n",
       "      <th>PassY_defense</th>\n",
       "      <th>RushY_Defense</th>\n",
       "      <th>TO_defense</th>\n",
       "    </tr>\n",
       "  </thead>\n",
       "  <tbody>\n",
       "    <tr>\n",
       "      <th>62</th>\n",
       "      <td>66</td>\n",
       "      <td>Sun</td>\n",
       "      <td>December 13</td>\n",
       "      <td>W</td>\n",
       "      <td>San Francisco 49ers</td>\n",
       "      <td>23</td>\n",
       "      <td>15</td>\n",
       "      <td>12</td>\n",
       "      <td>193</td>\n",
       "      <td>95</td>\n",
       "      <td>98</td>\n",
       "      <td>1</td>\n",
       "      <td>21</td>\n",
       "      <td>344</td>\n",
       "      <td>236</td>\n",
       "      <td>108</td>\n",
       "      <td>3</td>\n",
       "    </tr>\n",
       "    <tr>\n",
       "      <th>63</th>\n",
       "      <td>67</td>\n",
       "      <td>Sun</td>\n",
       "      <td>December 20</td>\n",
       "      <td>L</td>\n",
       "      <td>Seattle Seahawks</td>\n",
       "      <td>15</td>\n",
       "      <td>20</td>\n",
       "      <td>26</td>\n",
       "      <td>353</td>\n",
       "      <td>269</td>\n",
       "      <td>84</td>\n",
       "      <td>2</td>\n",
       "      <td>16</td>\n",
       "      <td>302</td>\n",
       "      <td>121</td>\n",
       "      <td>181</td>\n",
       "      <td>1</td>\n",
       "    </tr>\n",
       "    <tr>\n",
       "      <th>64</th>\n",
       "      <td>68</td>\n",
       "      <td>Sun</td>\n",
       "      <td>December 27</td>\n",
       "      <td>L</td>\n",
       "      <td>Carolina Panthers</td>\n",
       "      <td>13</td>\n",
       "      <td>20</td>\n",
       "      <td>20</td>\n",
       "      <td>386</td>\n",
       "      <td>278</td>\n",
       "      <td>108</td>\n",
       "      <td>4</td>\n",
       "      <td>19</td>\n",
       "      <td>280</td>\n",
       "      <td>167</td>\n",
       "      <td>113</td>\n",
       "      <td>2</td>\n",
       "    </tr>\n",
       "    <tr>\n",
       "      <th>65</th>\n",
       "      <td>69</td>\n",
       "      <td>Sun</td>\n",
       "      <td>January 3</td>\n",
       "      <td>W</td>\n",
       "      <td>Philadelphia Eagles</td>\n",
       "      <td>20</td>\n",
       "      <td>14</td>\n",
       "      <td>16</td>\n",
       "      <td>248</td>\n",
       "      <td>145</td>\n",
       "      <td>103</td>\n",
       "      <td>2</td>\n",
       "      <td>16</td>\n",
       "      <td>216</td>\n",
       "      <td>98</td>\n",
       "      <td>118</td>\n",
       "      <td>3</td>\n",
       "    </tr>\n",
       "    <tr>\n",
       "      <th>66</th>\n",
       "      <td>70</td>\n",
       "      <td>Sat</td>\n",
       "      <td>January 9</td>\n",
       "      <td>L</td>\n",
       "      <td>Tampa Bay Buccaneers</td>\n",
       "      <td>23</td>\n",
       "      <td>31</td>\n",
       "      <td>23</td>\n",
       "      <td>375</td>\n",
       "      <td>289</td>\n",
       "      <td>86</td>\n",
       "      <td>1</td>\n",
       "      <td>26</td>\n",
       "      <td>507</td>\n",
       "      <td>365</td>\n",
       "      <td>142</td>\n",
       "      <td>1</td>\n",
       "    </tr>\n",
       "  </tbody>\n",
       "</table>\n",
       "</div>"
      ],
      "text/plain": [
       "    week  day         date result              opponent  tm_score  opp_score  \\\n",
       "62    66  Sun  December 13      W   San Francisco 49ers        23         15   \n",
       "63    67  Sun  December 20      L      Seattle Seahawks        15         20   \n",
       "64    68  Sun  December 27      L     Carolina Panthers        13         20   \n",
       "65    69  Sun    January 3      W   Philadelphia Eagles        20         14   \n",
       "66    70  Sat    January 9      L  Tampa Bay Buccaneers        23         31   \n",
       "\n",
       "    1stD_offense   TotYd_offense  PassY_offense  RushY_offense  TO_offense  \\\n",
       "62             12            193             95             98           1   \n",
       "63             26            353            269             84           2   \n",
       "64             20            386            278            108           4   \n",
       "65             16            248            145            103           2   \n",
       "66             23            375            289             86           1   \n",
       "\n",
       "    1stD_defense  Totyd_defense  PassY_defense  RushY_Defense  TO_defense  \n",
       "62            21            344            236            108           3  \n",
       "63            16            302            121            181           1  \n",
       "64            19            280            167            113           2  \n",
       "65            16            216             98            118           3  \n",
       "66            26            507            365            142           1  "
      ]
     },
     "execution_count": 172,
     "metadata": {},
     "output_type": "execute_result"
    }
   ],
   "source": [
    "# Import library and data \n",
    "washington_commanders = pd.read_csv(\"C:/Users/samue/Downloads/2023_crd.csv\")\n",
    "\n",
    "#view the first 5 rows\n",
    "washington_commanders.tail()"
   ]
  },
  {
   "cell_type": "code",
   "execution_count": 134,
   "id": "d3870e1c-1dc9-4f48-8848-0f5aa8c825c6",
   "metadata": {},
   "outputs": [
    {
     "data": {
      "text/plain": [
       "result\n",
       "L    41\n",
       "W    26\n",
       "Name: count, dtype: int64"
      ]
     },
     "execution_count": 134,
     "metadata": {},
     "output_type": "execute_result"
    }
   ],
   "source": [
    "# Summarize the outcomes of the games using the \"results\" column\n",
    "washington_commanders.value_counts('result')\n",
    "#washington_commanders['result'].value_counts()"
   ]
  },
  {
   "cell_type": "code",
   "execution_count": 135,
   "id": "c233383e-d086-466b-969c-c29300a00105",
   "metadata": {},
   "outputs": [],
   "source": [
    "\n",
    "#Encode the results table\n"
   ]
  },
  {
   "cell_type": "code",
   "execution_count": 136,
   "id": "ea4f0618-36a0-463a-996a-c30fb9ff9f5a",
   "metadata": {},
   "outputs": [
    {
     "data": {
      "text/plain": [
       "result\n",
       "0    41\n",
       "1    26\n",
       "Name: count, dtype: int64"
      ]
     },
     "execution_count": 136,
     "metadata": {},
     "output_type": "execute_result"
    }
   ],
   "source": [
    "#this is a nested dictionary to encode alphanumeric values to numeric. \n",
    "result_encoder = {'result':{'W':1, 'L':0}}\n",
    "\n",
    "washington_commanders.replace(result_encoder, inplace = True)\n",
    "\n",
    "# check the results \n",
    "washington_commanders.value_counts('result')\n"
   ]
  },
  {
   "cell_type": "code",
   "execution_count": 137,
   "id": "d82f2f6c-4900-4754-b2dd-c7dce42abe40",
   "metadata": {},
   "outputs": [
    {
     "data": {
      "image/png": "[encoded data removed]",
      "text/plain": [
       "<Figure size 640x480 with 1 Axes>"
      ]
     },
     "metadata": {},
     "output_type": "display_data"
    },
    {
     "name": "stdout",
     "output_type": "stream",
     "text": [
      "Index(['1stD_offense ', 'TotYd_offense', 'PassY_offense', 'RushY_offense',\n",
      "       'TO_offense', '1stD_defense', 'Totyd_defense', 'PassY_defense',\n",
      "       'RushY_Defense', 'TO_defense'],\n",
      "      dtype='object')\n"
     ]
    }
   ],
   "source": [
    "# change stat to view plot \n",
    "stat = washington_commanders['1stD_offense ']\n",
    "\n",
    "#box plot of stat\n",
    "stat_plot = sns.boxplot( x = 'result', y = stat, data = washington_commanders)\n",
    "\n",
    "#plot labels \n",
    "stat_plot.set_xticklabels(['loss/tie','win'])\n",
    "plt.show() \n",
    "\n",
    "#list feature names \n",
    "\n",
    "print(washington_commanders.columns[7:])"
   ]
  },
  {
   "cell_type": "code",
   "execution_count": 138,
   "id": "177666db-7b86-4e20-afc2-1cc0a1527bd1",
   "metadata": {},
   "outputs": [],
   "source": [
    "\n",
    "# Select feature variables to be scaled \n",
    "# savings the game stats from the index above to the variable features to be scaled. \n",
    "\n",
    "features = washington_commanders.iloc[:,7:]\n",
    "scaler = StandardScaler()\n",
    "\n",
    "#fit the transformer to the features\n",
    "\n",
    "scaler.fit(features) \n",
    "\n",
    "#transform and save as X\n",
    "# This is saving the game stats as the variable 'X' \n",
    "\n",
    "X = scaler.transform(features) \n"
   ]
  },
  {
   "cell_type": "code",
   "execution_count": 139,
   "id": "fff29325-83cc-4560-ab2b-adc0c9df9785",
   "metadata": {},
   "outputs": [],
   "source": [
    "\n",
    "# This is saving the game outcomes as the variable 'y' \n",
    "\n",
    "y = washington_commanders['result']\n"
   ]
  },
  {
   "cell_type": "code",
   "execution_count": 155,
   "id": "523c8a93-3109-49d2-9d04-a3ebb1b0151a",
   "metadata": {},
   "outputs": [],
   "source": [
    "# create train-test split of the data \n",
    "# this function will split up or features and results labels into training data and testing data \n",
    "# test_size corresponds to the proportion of data reserved for testing. \n",
    "\n",
    "X_train, X_test, y_train, y_test = train_test_split(X,y, test_size= .289999, random_state = 42) \n"
   ]
  },
  {
   "cell_type": "code",
   "execution_count": 156,
   "id": "bb80bea1-5f08-4f93-b9fe-7861f5f6e555",
   "metadata": {},
   "outputs": [
    {
     "data": {
      "text/html": [
       "<style>#sk-container-id-15 {color: black;background-color: white;}#sk-container-id-15 pre{padding: 0;}#sk-container-id-15 div.sk-toggleable {background-color: white;}#sk-container-id-15 label.sk-toggleable__label {cursor: pointer;display: block;width: 100%;margin-bottom: 0;padding: 0.3em;box-sizing: border-box;text-align: center;}#sk-container-id-15 label.sk-toggleable__label-arrow:before {content: \"▸\";float: left;margin-right: 0.25em;color: #696969;}#sk-container-id-15 label.sk-toggleable__label-arrow:hover:before {color: black;}#sk-container-id-15 div.sk-estimator:hover label.sk-toggleable__label-arrow:before {color: black;}#sk-container-id-15 div.sk-toggleable__content {max-height: 0;max-width: 0;overflow: hidden;text-align: left;background-color: #f0f8ff;}#sk-container-id-15 div.sk-toggleable__content pre {margin: 0.2em;color: black;border-radius: 0.25em;background-color: #f0f8ff;}#sk-container-id-15 input.sk-toggleable__control:checked~div.sk-toggleable__content {max-height: 200px;max-width: 100%;overflow: auto;}#sk-container-id-15 input.sk-toggleable__control:checked~label.sk-toggleable__label-arrow:before {content: \"▾\";}#sk-container-id-15 div.sk-estimator input.sk-toggleable__control:checked~label.sk-toggleable__label {background-color: #d4ebff;}#sk-container-id-15 div.sk-label input.sk-toggleable__control:checked~label.sk-toggleable__label {background-color: #d4ebff;}#sk-container-id-15 input.sk-hidden--visually {border: 0;clip: rect(1px 1px 1px 1px);clip: rect(1px, 1px, 1px, 1px);height: 1px;margin: -1px;overflow: hidden;padding: 0;position: absolute;width: 1px;}#sk-container-id-15 div.sk-estimator {font-family: monospace;background-color: #f0f8ff;border: 1px dotted black;border-radius: 0.25em;box-sizing: border-box;margin-bottom: 0.5em;}#sk-container-id-15 div.sk-estimator:hover {background-color: #d4ebff;}#sk-container-id-15 div.sk-parallel-item::after {content: \"\";width: 100%;border-bottom: 1px solid gray;flex-grow: 1;}#sk-container-id-15 div.sk-label:hover label.sk-toggleable__label {background-color: #d4ebff;}#sk-container-id-15 div.sk-serial::before {content: \"\";position: absolute;border-left: 1px solid gray;box-sizing: border-box;top: 0;bottom: 0;left: 50%;z-index: 0;}#sk-container-id-15 div.sk-serial {display: flex;flex-direction: column;align-items: center;background-color: white;padding-right: 0.2em;padding-left: 0.2em;position: relative;}#sk-container-id-15 div.sk-item {position: relative;z-index: 1;}#sk-container-id-15 div.sk-parallel {display: flex;align-items: stretch;justify-content: center;background-color: white;position: relative;}#sk-container-id-15 div.sk-item::before, #sk-container-id-15 div.sk-parallel-item::before {content: \"\";position: absolute;border-left: 1px solid gray;box-sizing: border-box;top: 0;bottom: 0;left: 50%;z-index: -1;}#sk-container-id-15 div.sk-parallel-item {display: flex;flex-direction: column;z-index: 1;position: relative;background-color: white;}#sk-container-id-15 div.sk-parallel-item:first-child::after {align-self: flex-end;width: 50%;}#sk-container-id-15 div.sk-parallel-item:last-child::after {align-self: flex-start;width: 50%;}#sk-container-id-15 div.sk-parallel-item:only-child::after {width: 0;}#sk-container-id-15 div.sk-dashed-wrapped {border: 1px dashed gray;margin: 0 0.4em 0.5em 0.4em;box-sizing: border-box;padding-bottom: 0.4em;background-color: white;}#sk-container-id-15 div.sk-label label {font-family: monospace;font-weight: bold;display: inline-block;line-height: 1.2em;}#sk-container-id-15 div.sk-label-container {text-align: center;}#sk-container-id-15 div.sk-container {/* jupyter's `normalize.less` sets `[hidden] { display: none; }` but bootstrap.min.css set `[hidden] { display: none !important; }` so we also need the `!important` here to be able to override the default hidden behavior on the sphinx rendered scikit-learn.org. See: https://github.com/scikit-learn/scikit-learn/issues/21755 */display: inline-block !important;position: relative;}#sk-container-id-15 div.sk-text-repr-fallback {display: none;}</style><div id=\"sk-container-id-15\" class=\"sk-top-container\"><div class=\"sk-text-repr-fallback\"><pre>LogisticRegression()</pre><b>In a Jupyter environment, please rerun this cell to show the HTML representation or trust the notebook. <br />On GitHub, the HTML representation is unable to render, please try loading this page with nbviewer.org.</b></div><div class=\"sk-container\" hidden><div class=\"sk-item\"><div class=\"sk-estimator sk-toggleable\"><input class=\"sk-toggleable__control sk-hidden--visually\" id=\"sk-estimator-id-15\" type=\"checkbox\" checked><label for=\"sk-estimator-id-15\" class=\"sk-toggleable__label sk-toggleable__label-arrow\">LogisticRegression</label><div class=\"sk-toggleable__content\"><pre>LogisticRegression()</pre></div></div></div></div></div>"
      ],
      "text/plain": [
       "LogisticRegression()"
      ]
     },
     "execution_count": 156,
     "metadata": {},
     "output_type": "execute_result"
    }
   ],
   "source": [
    "\n",
    "# Run the Model \n",
    "\n",
    "#create the classifier \n",
    "irc = LogisticRegression()\n",
    "\n",
    "# fit the classifier to the training data \n",
    "lrc.fit(X_train, y_train) "
   ]
  },
  {
   "cell_type": "code",
   "execution_count": 159,
   "id": "4ccfd9e2-268b-4783-b7b4-5dc6af68d354",
   "metadata": {},
   "outputs": [
    {
     "data": {
      "text/plain": [
       "0.8"
      ]
     },
     "execution_count": 159,
     "metadata": {},
     "output_type": "execute_result"
    }
   ],
   "source": [
    "\n",
    "#Check model Accuracy \n",
    "# Predict with the classifier using the .predict() function\n",
    "y_pred = lrc.predict(X_test)\n",
    "\n",
    "# View the model accuracy with the accuracy_score() function \n",
    "accuracy_score(y_test, y_pred)"
   ]
  },
  {
   "cell_type": "code",
   "execution_count": 160,
   "id": "3fb08e30-01c4-435e-8cb7-3a868a10a140",
   "metadata": {},
   "outputs": [],
   "source": [
    "\n",
    "#The following code runs a logisics regression on our on our same data and gets and accuracy score for each combination of penalty and 'c'. \n"
   ]
  },
  {
   "cell_type": "code",
   "execution_count": 168,
   "id": "700b294b-80af-48c5-abd7-44f0f8a77141",
   "metadata": {},
   "outputs": [
    {
     "name": "stdout",
     "output_type": "stream",
     "text": [
      "Accuracy: 55.0% | penalty = l1, C=0.01\n",
      "Accuracy: 55.0% | penalty = l1, C=0.1\n",
      "Accuracy: 75.0% | penalty = l1, C=1.0\n",
      "Accuracy: 80.0% | penalty = l1, C=10.0\n",
      "Accuracy: 80.0% | penalty = l1, C=1000.0\n",
      "Accuracy: 70.0% | penalty = l2, C=0.01\n",
      "Accuracy: 70.0% | penalty = l2, C=0.1\n",
      "Accuracy: 75.0% | penalty = l2, C=1.0\n",
      "Accuracy: 80.0% | penalty = l2, C=10.0\n",
      "Accuracy: 80.0% | penalty = l2, C=1000.0\n"
     ]
    }
   ],
   "source": [
    "# create a list of penalties \n",
    "penalties = ['l1', 'l2']\n",
    "\n",
    "#create a list of c values \n",
    "C = [0.01, 0.1, 1.0, 10.0, 1000.0]\n",
    "\n",
    "\n",
    "for penalty in penalties:\n",
    "    for c in C: \n",
    "\n",
    "        #instantiate the classifier \n",
    "        lrc_tuned = LogisticRegression(penalty=penalty, C=c, solver='liblinear') \n",
    "\n",
    "        #fit the classifier to the training data \n",
    "        lrc_tuned.fit(X_train, y_train)\n",
    "\n",
    "        #predict with the classifier using the predict() function \n",
    "        y_pred = lrc_tuned.predict(X_test)\n",
    "\n",
    "\n",
    "        #view the model accuracy with the accuracy_score() function\n",
    "        accuracy = accuracy_score(y_test, y_pred)\n",
    "        accuracy_rd = round(accuracy*100,1)\n",
    "\n",
    "\n",
    "        #Print accuracy for each combination of penatly and C \n",
    "        print(f'Accuracy: {accuracy_rd}% | penalty = {penalty}, C={c}') "
   ]
  },
  {
   "cell_type": "code",
   "execution_count": null,
   "id": "c5aa18c9-ed8f-4043-b71b-52b2bd799d72",
   "metadata": {},
   "outputs": [],
   "source": [
    "\n",
    "#Save the  Optimized Model \n",
    "\n"
   ]
  },
  {
   "cell_type": "code",
   "execution_count": 175,
   "id": "e2cdcdb4-7847-4e4d-b1fa-7169deb63400",
   "metadata": {},
   "outputs": [
    {
     "data": {
      "text/html": [
       "<style>#sk-container-id-18 {color: black;background-color: white;}#sk-container-id-18 pre{padding: 0;}#sk-container-id-18 div.sk-toggleable {background-color: white;}#sk-container-id-18 label.sk-toggleable__label {cursor: pointer;display: block;width: 100%;margin-bottom: 0;padding: 0.3em;box-sizing: border-box;text-align: center;}#sk-container-id-18 label.sk-toggleable__label-arrow:before {content: \"▸\";float: left;margin-right: 0.25em;color: #696969;}#sk-container-id-18 label.sk-toggleable__label-arrow:hover:before {color: black;}#sk-container-id-18 div.sk-estimator:hover label.sk-toggleable__label-arrow:before {color: black;}#sk-container-id-18 div.sk-toggleable__content {max-height: 0;max-width: 0;overflow: hidden;text-align: left;background-color: #f0f8ff;}#sk-container-id-18 div.sk-toggleable__content pre {margin: 0.2em;color: black;border-radius: 0.25em;background-color: #f0f8ff;}#sk-container-id-18 input.sk-toggleable__control:checked~div.sk-toggleable__content {max-height: 200px;max-width: 100%;overflow: auto;}#sk-container-id-18 input.sk-toggleable__control:checked~label.sk-toggleable__label-arrow:before {content: \"▾\";}#sk-container-id-18 div.sk-estimator input.sk-toggleable__control:checked~label.sk-toggleable__label {background-color: #d4ebff;}#sk-container-id-18 div.sk-label input.sk-toggleable__control:checked~label.sk-toggleable__label {background-color: #d4ebff;}#sk-container-id-18 input.sk-hidden--visually {border: 0;clip: rect(1px 1px 1px 1px);clip: rect(1px, 1px, 1px, 1px);height: 1px;margin: -1px;overflow: hidden;padding: 0;position: absolute;width: 1px;}#sk-container-id-18 div.sk-estimator {font-family: monospace;background-color: #f0f8ff;border: 1px dotted black;border-radius: 0.25em;box-sizing: border-box;margin-bottom: 0.5em;}#sk-container-id-18 div.sk-estimator:hover {background-color: #d4ebff;}#sk-container-id-18 div.sk-parallel-item::after {content: \"\";width: 100%;border-bottom: 1px solid gray;flex-grow: 1;}#sk-container-id-18 div.sk-label:hover label.sk-toggleable__label {background-color: #d4ebff;}#sk-container-id-18 div.sk-serial::before {content: \"\";position: absolute;border-left: 1px solid gray;box-sizing: border-box;top: 0;bottom: 0;left: 50%;z-index: 0;}#sk-container-id-18 div.sk-serial {display: flex;flex-direction: column;align-items: center;background-color: white;padding-right: 0.2em;padding-left: 0.2em;position: relative;}#sk-container-id-18 div.sk-item {position: relative;z-index: 1;}#sk-container-id-18 div.sk-parallel {display: flex;align-items: stretch;justify-content: center;background-color: white;position: relative;}#sk-container-id-18 div.sk-item::before, #sk-container-id-18 div.sk-parallel-item::before {content: \"\";position: absolute;border-left: 1px solid gray;box-sizing: border-box;top: 0;bottom: 0;left: 50%;z-index: -1;}#sk-container-id-18 div.sk-parallel-item {display: flex;flex-direction: column;z-index: 1;position: relative;background-color: white;}#sk-container-id-18 div.sk-parallel-item:first-child::after {align-self: flex-end;width: 50%;}#sk-container-id-18 div.sk-parallel-item:last-child::after {align-self: flex-start;width: 50%;}#sk-container-id-18 div.sk-parallel-item:only-child::after {width: 0;}#sk-container-id-18 div.sk-dashed-wrapped {border: 1px dashed gray;margin: 0 0.4em 0.5em 0.4em;box-sizing: border-box;padding-bottom: 0.4em;background-color: white;}#sk-container-id-18 div.sk-label label {font-family: monospace;font-weight: bold;display: inline-block;line-height: 1.2em;}#sk-container-id-18 div.sk-label-container {text-align: center;}#sk-container-id-18 div.sk-container {/* jupyter's `normalize.less` sets `[hidden] { display: none; }` but bootstrap.min.css set `[hidden] { display: none !important; }` so we also need the `!important` here to be able to override the default hidden behavior on the sphinx rendered scikit-learn.org. See: https://github.com/scikit-learn/scikit-learn/issues/21755 */display: inline-block !important;position: relative;}#sk-container-id-18 div.sk-text-repr-fallback {display: none;}</style><div id=\"sk-container-id-18\" class=\"sk-top-container\"><div class=\"sk-text-repr-fallback\"><pre>LogisticRegression(C=1000.0, penalty=&#x27;l1&#x27;, solver=&#x27;liblinear&#x27;)</pre><b>In a Jupyter environment, please rerun this cell to show the HTML representation or trust the notebook. <br />On GitHub, the HTML representation is unable to render, please try loading this page with nbviewer.org.</b></div><div class=\"sk-container\" hidden><div class=\"sk-item\"><div class=\"sk-estimator sk-toggleable\"><input class=\"sk-toggleable__control sk-hidden--visually\" id=\"sk-estimator-id-18\" type=\"checkbox\" checked><label for=\"sk-estimator-id-18\" class=\"sk-toggleable__label sk-toggleable__label-arrow\">LogisticRegression</label><div class=\"sk-toggleable__content\"><pre>LogisticRegression(C=1000.0, penalty=&#x27;l1&#x27;, solver=&#x27;liblinear&#x27;)</pre></div></div></div></div></div>"
      ],
      "text/plain": [
       "LogisticRegression(C=1000.0, penalty='l1', solver='liblinear')"
      ]
     },
     "execution_count": 175,
     "metadata": {},
     "output_type": "execute_result"
    }
   ],
   "source": [
    "#Set the test size and hyperparameters \n",
    "test_size = 0.289999\n",
    "penalty = 'l1'\n",
    "C=1000.0\n",
    "\n",
    "# train-test split \n",
    "X_train, X_test, y_train, y_test = train_test_split(X,y, test_size= .289999, random_state = 42) \n",
    "\n",
    "#instantiate the classifier \n",
    "optLr = LogisticRegression(penalty = penalty, C = C, solver = 'liblinear')\n",
    "\n",
    "#fit the classifier to the training data \n",
    "optLr.fit(X_train, y_train) "
   ]
  },
  {
   "cell_type": "code",
   "execution_count": 176,
   "id": "16e5ce76-356d-4b5e-9118-fd9308b31f2f",
   "metadata": {},
   "outputs": [
    {
     "name": "stdout",
     "output_type": "stream",
     "text": [
      "Feature: 1stD_offense , Score: 0.67\n",
      "Feature: TotYd_offense, Score: 0.07\n",
      "Feature: PassY_offense, Score: 0.21\n",
      "Feature: RushY_offense, Score: 0.83\n",
      "Feature: TO_offense, Score: 1.07\n",
      "Feature: 1stD_defense, Score: 0.3\n",
      "Feature: Totyd_defense, Score: 0.97\n",
      "Feature: PassY_defense, Score: 0.55\n",
      "Feature: RushY_Defense, Score: 0.0\n",
      "Feature: TO_defense, Score: 0.73\n"
     ]
    },
    {
     "data": {
      "image/png": "[encoded data removed]",
      "text/plain": [
       "<Figure size 640x480 with 1 Axes>"
      ]
     },
     "metadata": {},
     "output_type": "display_data"
    }
   ],
   "source": [
    "#Examine Feature Importance \n",
    "\n",
    "#get importance \n",
    "importance = abs(optLr.coef_[0])\n",
    "\n",
    "#visualize feature importance\n",
    "sns.barplot(x=importance, y=features.columns)\n",
    "\n",
    "#add labels and titles \n",
    "plt.suptitle('Feature Importance for Logistics Regression') \n",
    "plt.xlabel('Score')\n",
    "plt.ylabel('Stat')\n",
    "plt.show \n",
    "\n",
    "# summarize feature importance \n",
    "for i, v in enumerate(importance.round(2)):\n",
    "    print(f'Feature: {features.columns[i]}, Score: {v}')\n",
    "\n"
   ]
  },
  {
   "cell_type": "code",
   "execution_count": null,
   "id": "45bdeb59-f0ee-481d-9491-03c88d599c97",
   "metadata": {},
   "outputs": [],
   "source": []
  }
 ],
 "metadata": {
  "kernelspec": {
   "display_name": "Python 3 (ipykernel)",
   "language": "python",
   "name": "python3"
  },
  "language_info": {
   "codemirror_mode": {
    "name": "ipython",
    "version": 3
   },
   "file_extension": ".py",
   "mimetype": "text/x-python",
   "name": "python",
   "nbconvert_exporter": "python",
   "pygments_lexer": "ipython3",
   "version": "3.11.7"
  }
 },
 "nbformat": 4,
 "nbformat_minor": 5
}
