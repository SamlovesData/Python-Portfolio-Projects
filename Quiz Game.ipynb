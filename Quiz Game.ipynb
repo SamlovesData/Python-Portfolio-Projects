{
 "cells": [
  {
   "cell_type": "code",
   "execution_count": 1,
   "id": "bb51f91c-5460-4e2e-842c-a36f48ea4d72",
   "metadata": {},
   "outputs": [],
   "source": [
    "# Ask the user questions and if they answer correctly they get points added to their score \n",
    "import sys"
   ]
  },
  {
   "cell_type": "code",
   "execution_count": 18,
   "id": "8a95a3eb-96ee-4ffd-8c70-7f496a377349",
   "metadata": {},
   "outputs": [
    {
     "name": "stdout",
     "output_type": "stream",
     "text": [
      "Welcome to my computer quiz! \n"
     ]
    },
    {
     "name": "stdin",
     "output_type": "stream",
     "text": [
      "Would you like to play my game  yes\n",
      " What does CPU stand for?  \n"
     ]
    },
    {
     "name": "stdout",
     "output_type": "stream",
     "text": [
      "Incorrect\n"
     ]
    },
    {
     "name": "stdin",
     "output_type": "stream",
     "text": [
      " What does GPU stand for \n"
     ]
    },
    {
     "name": "stdout",
     "output_type": "stream",
     "text": [
      "Incorrect\n"
     ]
    },
    {
     "name": "stdin",
     "output_type": "stream",
     "text": [
      "What does RAM stand for?   \n"
     ]
    },
    {
     "name": "stdout",
     "output_type": "stream",
     "text": [
      "Incorrect\n"
     ]
    },
    {
     "name": "stdin",
     "output_type": "stream",
     "text": [
      " What does POP3 Stand for?  \n"
     ]
    },
    {
     "name": "stdout",
     "output_type": "stream",
     "text": [
      "Incorrect\n",
      "You got 0 questions correct!\n"
     ]
    }
   ],
   "source": [
    "print(\"Welcome to my computer quiz! \")\n",
    "\n",
    "# Ask the user if they would like to play the game. If they say yes continue if not quit the program \n",
    "playing = input(\"Would you like to play my game \")\n",
    "score = 0 \n",
    "\n",
    "\n",
    "if playing.lower().strip() != \"yes\": \n",
    "    sys.exit(\"Okay GoodBye\")\n",
    "   \n",
    "\n",
    "\n",
    "answer = input(\" What does CPU stand for? \").lower().strip()\n",
    "\n",
    "if answer == \"central processing unit\":\n",
    "    print ('Correct!')\n",
    "    score += 1 \n",
    "else: \n",
    "    print(\"Incorrect\")\n",
    "\n",
    "\n",
    "answer = input(\" What does GPU stand for\").lower().strip()\n",
    "if answer == \"graphical processing unit\":\n",
    "    print ('Correct!') \n",
    "    score += 1 \n",
    "else: \n",
    "    print(\"Incorrect\")\n",
    "\n",
    "\n",
    "answer = input(\"What does RAM stand for?  \").lower().strip()\n",
    "if answer == \"random access memory\":\n",
    "    print ('Correct!') \n",
    "    score += 1 \n",
    "else: \n",
    "    print(\"Incorrect\")\n",
    "\n",
    "\n",
    "answer = input(\" What does POP3 Stand for? \").lower().strip()\n",
    "if answer == \"email server\":\n",
    "    print ('Correct!') \n",
    "    score += 1 \n",
    "else:\n",
    "    print(\"Incorrect\")\n",
    "\n",
    "\n",
    "print (\"You got \" + str(score) + \" questions correct!\") \n"
   ]
  },
  {
   "cell_type": "code",
   "execution_count": null,
   "id": "c523dce2-2421-4ffc-b5b3-b90a9733475c",
   "metadata": {},
   "outputs": [],
   "source": []
  },
  {
   "cell_type": "code",
   "execution_count": null,
   "id": "aead69dc-e100-40c2-ab9a-bccf00ef99d8",
   "metadata": {},
   "outputs": [],
   "source": []
  }
 ],
 "metadata": {
  "kernelspec": {
   "display_name": "Python 3 (ipykernel)",
   "language": "python",
   "name": "python3"
  },
  "language_info": {
   "codemirror_mode": {
    "name": "ipython",
    "version": 3
   },
   "file_extension": ".py",
   "mimetype": "text/x-python",
   "name": "python",
   "nbconvert_exporter": "python",
   "pygments_lexer": "ipython3",
   "version": "3.11.7"
  }
 },
 "nbformat": 4,
 "nbformat_minor": 5
}
