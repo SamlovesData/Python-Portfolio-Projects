{
 "cells": [
  {
   "cell_type": "code",
   "execution_count": 94,
   "id": "12481563-60da-4b1f-8340-ac86fb5df02c",
   "metadata": {},
   "outputs": [],
   "source": [
    "#Brought in libraries and packages needed \n",
    "from bs4 import BeautifulSoup\n",
    "import requests\n",
    "import pandas as pd"
   ]
  },
  {
   "cell_type": "code",
   "execution_count": 95,
   "id": "5bef7488-67a9-4a66-b902-2a14b98f4a20",
   "metadata": {},
   "outputs": [],
   "source": [
    "#Getting URL that is to be used for scraping \n",
    "url = 'https://en.wikipedia.org/wiki/List_of_largest_companies_in_the_United_States_by_revenue'\n",
    "\n",
    "page = requests.get(url)\n",
    "\n",
    "soup = BeautifulSoup(page.text, 'html') "
   ]
  },
  {
   "cell_type": "code",
   "execution_count": null,
   "id": "fb87860a-97e9-4fb8-9c73-68de097fadd3",
   "metadata": {},
   "outputs": [],
   "source": []
  },
  {
   "cell_type": "code",
   "execution_count": 96,
   "id": "03769b57-1b61-4a33-88ee-44261019754f",
   "metadata": {
    "scrolled": true
   },
   "outputs": [],
   "source": [
    "#print(soup)"
   ]
  },
  {
   "cell_type": "code",
   "execution_count": 97,
   "id": "beaea5b0-9e8a-4158-8fee-fff9f02bdb60",
   "metadata": {
    "scrolled": true
   },
   "outputs": [],
   "source": [
    "#soup.find_all('table')[1]\n"
   ]
  },
  {
   "cell_type": "code",
   "execution_count": 98,
   "id": "6a8107df-d8aa-4bc9-986e-e141074feaf5",
   "metadata": {
    "scrolled": true
   },
   "outputs": [],
   "source": [
    "\n",
    "#soup.find_all('table',class_ = 'wikitable sortable')"
   ]
  },
  {
   "cell_type": "code",
   "execution_count": 99,
   "id": "9a05c537-29af-4ae3-b50a-f5989daebe4c",
   "metadata": {},
   "outputs": [],
   "source": [
    "# found the specific table we wanted to use from the website\n",
    "table = soup.find_all('table')[1]"
   ]
  },
  {
   "cell_type": "code",
   "execution_count": 100,
   "id": "c3c2ff0a-c512-47f2-8347-421a4a79d15d",
   "metadata": {
    "scrolled": true
   },
   "outputs": [],
   "source": [
    "#print(table)"
   ]
  },
  {
   "cell_type": "code",
   "execution_count": 101,
   "id": "b4bf13be-b9a6-49a1-98b8-6416f5e7da17",
   "metadata": {},
   "outputs": [],
   "source": [
    "#made the mistake of using soups to rather than tables. This led to us not being able to pull the specfic data we wanted.\n",
    "world_titles = table.find_all('th')"
   ]
  },
  {
   "cell_type": "code",
   "execution_count": 102,
   "id": "9a558bd0-94fa-4690-9b8f-45cbcee8b6d9",
   "metadata": {
    "scrolled": true
   },
   "outputs": [
    {
     "data": {
      "text/plain": [
       "[<th>Rank\n",
       " </th>,\n",
       " <th>Name\n",
       " </th>,\n",
       " <th>Industry\n",
       " </th>,\n",
       " <th>Revenue <br/>(USD millions)\n",
       " </th>,\n",
       " <th>Revenue growth\n",
       " </th>,\n",
       " <th>Employees\n",
       " </th>,\n",
       " <th>Headquarters\n",
       " </th>]"
      ]
     },
     "execution_count": 102,
     "metadata": {},
     "output_type": "execute_result"
    }
   ],
   "source": [
    "world_titles"
   ]
  },
  {
   "cell_type": "code",
   "execution_count": 103,
   "id": "e06afd6d-e985-43c1-8491-5f97171e7f30",
   "metadata": {},
   "outputs": [],
   "source": [
    "world_table_titles = [title.text.strip() for title in world_titles]"
   ]
  },
  {
   "cell_type": "code",
   "execution_count": 104,
   "id": "8c62d75d-2daf-4f3e-999b-1286f0a6d145",
   "metadata": {
    "scrolled": true
   },
   "outputs": [
    {
     "name": "stdout",
     "output_type": "stream",
     "text": [
      "['Rank', 'Name', 'Industry', 'Revenue (USD millions)', 'Revenue growth', 'Employees', 'Headquarters']\n"
     ]
    }
   ],
   "source": [
    "print(world_table_titles)"
   ]
  },
  {
   "cell_type": "code",
   "execution_count": 113,
   "id": "570c55a0-e02a-4714-be60-b9ba0647aca3",
   "metadata": {},
   "outputs": [],
   "source": [
    "#put our table columns into the data frame using pandas \n",
    "df = pd.DataFrame(columns = world_table_titles)\n",
    "\n",
    "#this prints what is contained in the data frame\n",
    "#df"
   ]
  },
  {
   "cell_type": "code",
   "execution_count": null,
   "id": "7955952f-be2a-43b0-abf3-fd678314b90d",
   "metadata": {},
   "outputs": [],
   "source": []
  },
  {
   "cell_type": "code",
   "execution_count": 114,
   "id": "f5e39fca-7539-4381-a039-fb00493bb8e0",
   "metadata": {
    "scrolled": true
   },
   "outputs": [],
   "source": [
    "#this assigns the data from the tables we want to use to the data variable\n",
    "column_data = table.find_all('tr')"
   ]
  },
  {
   "cell_type": "code",
   "execution_count": 115,
   "id": "ebdba38b-fee5-45bf-90d0-52a38dd8196b",
   "metadata": {
    "scrolled": true
   },
   "outputs": [],
   "source": [
    "#for each row in the table take the text only from that row, then based off the length and rows left it adds it to our dataframe\n",
    "for row in column_data[1:]:\n",
    "    row_data = row.find_all('td')\n",
    "    individual_row_data = [data.text.strip() for data in row_data]\n",
    "    \n",
    "    length = len(df)\n",
    "    df.loc[length] = individual_row_data\n"
   ]
  },
  {
   "cell_type": "code",
   "execution_count": 116,
   "id": "6e95e395-fadd-4914-ac0a-cc3fc9b886a0",
   "metadata": {},
   "outputs": [
    {
     "data": {
      "text/html": [
       "<div>\n",
       "<style scoped>\n",
       "    .dataframe tbody tr th:only-of-type {\n",
       "        vertical-align: middle;\n",
       "    }\n",
       "\n",
       "    .dataframe tbody tr th {\n",
       "        vertical-align: top;\n",
       "    }\n",
       "\n",
       "    .dataframe thead th {\n",
       "        text-align: right;\n",
       "    }\n",
       "</style>\n",
       "<table border=\"1\" class=\"dataframe\">\n",
       "  <thead>\n",
       "    <tr style=\"text-align: right;\">\n",
       "      <th></th>\n",
       "      <th>Rank</th>\n",
       "      <th>Name</th>\n",
       "      <th>Industry</th>\n",
       "      <th>Revenue (USD millions)</th>\n",
       "      <th>Revenue growth</th>\n",
       "      <th>Employees</th>\n",
       "      <th>Headquarters</th>\n",
       "    </tr>\n",
       "  </thead>\n",
       "  <tbody>\n",
       "    <tr>\n",
       "      <th>0</th>\n",
       "      <td>1</td>\n",
       "      <td>Walmart</td>\n",
       "      <td>Retail</td>\n",
       "      <td>611,289</td>\n",
       "      <td>6.7%</td>\n",
       "      <td>2,100,000</td>\n",
       "      <td>Bentonville, Arkansas</td>\n",
       "    </tr>\n",
       "    <tr>\n",
       "      <th>1</th>\n",
       "      <td>2</td>\n",
       "      <td>Amazon</td>\n",
       "      <td>Retail and cloud computing</td>\n",
       "      <td>513,983</td>\n",
       "      <td>9.4%</td>\n",
       "      <td>1,540,000</td>\n",
       "      <td>Seattle, Washington</td>\n",
       "    </tr>\n",
       "    <tr>\n",
       "      <th>2</th>\n",
       "      <td>3</td>\n",
       "      <td>ExxonMobil</td>\n",
       "      <td>Petroleum industry</td>\n",
       "      <td>413,680</td>\n",
       "      <td>44.8%</td>\n",
       "      <td>62,000</td>\n",
       "      <td>Spring, Texas</td>\n",
       "    </tr>\n",
       "    <tr>\n",
       "      <th>3</th>\n",
       "      <td>4</td>\n",
       "      <td>Apple</td>\n",
       "      <td>Electronics industry</td>\n",
       "      <td>394,328</td>\n",
       "      <td>7.8%</td>\n",
       "      <td>164,000</td>\n",
       "      <td>Cupertino, California</td>\n",
       "    </tr>\n",
       "    <tr>\n",
       "      <th>4</th>\n",
       "      <td>5</td>\n",
       "      <td>UnitedHealth Group</td>\n",
       "      <td>Healthcare</td>\n",
       "      <td>324,162</td>\n",
       "      <td>12.7%</td>\n",
       "      <td>400,000</td>\n",
       "      <td>Minnetonka, Minnesota</td>\n",
       "    </tr>\n",
       "    <tr>\n",
       "      <th>...</th>\n",
       "      <td>...</td>\n",
       "      <td>...</td>\n",
       "      <td>...</td>\n",
       "      <td>...</td>\n",
       "      <td>...</td>\n",
       "      <td>...</td>\n",
       "      <td>...</td>\n",
       "    </tr>\n",
       "    <tr>\n",
       "      <th>95</th>\n",
       "      <td>96</td>\n",
       "      <td>Best Buy</td>\n",
       "      <td>Retail</td>\n",
       "      <td>46,298</td>\n",
       "      <td>10.6%</td>\n",
       "      <td>71,100</td>\n",
       "      <td>Richfield, Minnesota</td>\n",
       "    </tr>\n",
       "    <tr>\n",
       "      <th>96</th>\n",
       "      <td>97</td>\n",
       "      <td>Bristol-Myers Squibb</td>\n",
       "      <td>Pharmaceutical industry</td>\n",
       "      <td>46,159</td>\n",
       "      <td>0.5%</td>\n",
       "      <td>34,300</td>\n",
       "      <td>New York City, New York</td>\n",
       "    </tr>\n",
       "    <tr>\n",
       "      <th>97</th>\n",
       "      <td>98</td>\n",
       "      <td>United Airlines</td>\n",
       "      <td>Airline</td>\n",
       "      <td>44,955</td>\n",
       "      <td>82.5%</td>\n",
       "      <td>92,795</td>\n",
       "      <td>Chicago, Illinois</td>\n",
       "    </tr>\n",
       "    <tr>\n",
       "      <th>98</th>\n",
       "      <td>99</td>\n",
       "      <td>Thermo Fisher Scientific</td>\n",
       "      <td>Laboratory instruments</td>\n",
       "      <td>44,915</td>\n",
       "      <td>14.5%</td>\n",
       "      <td>130,000</td>\n",
       "      <td>Waltham, Massachusetts</td>\n",
       "    </tr>\n",
       "    <tr>\n",
       "      <th>99</th>\n",
       "      <td>100</td>\n",
       "      <td>Qualcomm</td>\n",
       "      <td>Technology</td>\n",
       "      <td>44,200</td>\n",
       "      <td>31.7%</td>\n",
       "      <td>51,000</td>\n",
       "      <td>San Diego, California</td>\n",
       "    </tr>\n",
       "  </tbody>\n",
       "</table>\n",
       "<p>100 rows × 7 columns</p>\n",
       "</div>"
      ],
      "text/plain": [
       "   Rank                      Name                    Industry  \\\n",
       "0     1                   Walmart                      Retail   \n",
       "1     2                    Amazon  Retail and cloud computing   \n",
       "2     3                ExxonMobil          Petroleum industry   \n",
       "3     4                     Apple        Electronics industry   \n",
       "4     5        UnitedHealth Group                  Healthcare   \n",
       "..  ...                       ...                         ...   \n",
       "95   96                  Best Buy                      Retail   \n",
       "96   97      Bristol-Myers Squibb     Pharmaceutical industry   \n",
       "97   98           United Airlines                     Airline   \n",
       "98   99  Thermo Fisher Scientific      Laboratory instruments   \n",
       "99  100                  Qualcomm                  Technology   \n",
       "\n",
       "   Revenue (USD millions) Revenue growth  Employees             Headquarters  \n",
       "0                 611,289           6.7%  2,100,000    Bentonville, Arkansas  \n",
       "1                 513,983           9.4%  1,540,000      Seattle, Washington  \n",
       "2                 413,680          44.8%     62,000            Spring, Texas  \n",
       "3                 394,328           7.8%    164,000    Cupertino, California  \n",
       "4                 324,162          12.7%    400,000    Minnetonka, Minnesota  \n",
       "..                    ...            ...        ...                      ...  \n",
       "95                 46,298          10.6%     71,100     Richfield, Minnesota  \n",
       "96                 46,159           0.5%     34,300  New York City, New York  \n",
       "97                 44,955          82.5%     92,795        Chicago, Illinois  \n",
       "98                 44,915          14.5%    130,000   Waltham, Massachusetts  \n",
       "99                 44,200          31.7%     51,000    San Diego, California  \n",
       "\n",
       "[100 rows x 7 columns]"
      ]
     },
     "execution_count": 116,
     "metadata": {},
     "output_type": "execute_result"
    }
   ],
   "source": [
    "df"
   ]
  },
  {
   "cell_type": "code",
   "execution_count": 118,
   "id": "113ed6b1-e8b0-4789-9a2c-316639f27707",
   "metadata": {},
   "outputs": [],
   "source": [
    "#Exported the new table to a CSV file using pandas\n",
    "df.to_csv(r'C:\\Users\\samue\\OneDrive\\Desktop\\Python Tutorial\\Python WebScraping\\Companies2.csv', index = False)"
   ]
  },
  {
   "cell_type": "code",
   "execution_count": null,
   "id": "e98275a6-878a-421b-87f1-a4b7bb037c80",
   "metadata": {},
   "outputs": [],
   "source": []
  },
  {
   "cell_type": "code",
   "execution_count": null,
   "id": "a0277912-fe41-4ddf-8480-0ca55a626980",
   "metadata": {},
   "outputs": [],
   "source": []
  },
  {
   "cell_type": "code",
   "execution_count": null,
   "id": "3f4b5cfa-57d1-4a31-9b06-8a39d4a5810f",
   "metadata": {},
   "outputs": [],
   "source": []
  }
 ],
 "metadata": {
  "kernelspec": {
   "display_name": "Python 3 (ipykernel)",
   "language": "python",
   "name": "python3"
  },
  "language_info": {
   "codemirror_mode": {
    "name": "ipython",
    "version": 3
   },
   "file_extension": ".py",
   "mimetype": "text/x-python",
   "name": "python",
   "nbconvert_exporter": "python",
   "pygments_lexer": "ipython3",
   "version": "3.11.7"
  }
 },
 "nbformat": 4,
 "nbformat_minor": 5
}
