{
 "cells": [
  {
   "cell_type": "code",
   "execution_count": 39,
   "id": "a85b30d4-0b17-48b1-bdc8-663a3bbf5101",
   "metadata": {},
   "outputs": [],
   "source": [
    "import os, shutil "
   ]
  },
  {
   "cell_type": "code",
   "execution_count": 40,
   "id": "7a6ac628-2ef7-4cbb-8aec-7a5f73e02051",
   "metadata": {},
   "outputs": [],
   "source": [
    "path = r\"C:/Users/samue/OneDrive/Desktop/Python Tutorial/\""
   ]
  },
  {
   "cell_type": "code",
   "execution_count": 41,
   "id": "b2c18b73-7f62-4557-aa87-34a23ddebf97",
   "metadata": {},
   "outputs": [],
   "source": [
    "#show all the files within the path using  os.listdir(path)"
   ]
  },
  {
   "cell_type": "code",
   "execution_count": 42,
   "id": "259668ee-631d-47d2-b834-bbaf010757a2",
   "metadata": {},
   "outputs": [],
   "source": [
    "file_name = os.listdir(path)"
   ]
  },
  {
   "cell_type": "code",
   "execution_count": 43,
   "id": "b1965823-f30a-4fa0-9e7b-0fa6d16899a9",
   "metadata": {},
   "outputs": [],
   "source": [
    "folder_names = ['csv files', 'image files' , 'text files']\n",
    "\n",
    "\n",
    "\n",
    "for loop in range(0,3):\n",
    "    if not os.path.exists(path + folder_names[loop]):\n",
    "        print((path + folder_names[loop]))\n",
    "        os.makedirs((path + folder_names[loop]))\n",
    "    "
   ]
  },
  {
   "cell_type": "code",
   "execution_count": 44,
   "id": "ebe48a41-310e-489f-8be8-7c9503433216",
   "metadata": {},
   "outputs": [
    {
     "name": "stdout",
     "output_type": "stream",
     "text": [
      "There are files in this path that were not moved!\n",
      "There are files in this path that were not moved!\n",
      "There are files in this path that were not moved!\n",
      "There are files in this path that were not moved!\n"
     ]
    }
   ],
   "source": [
    "for file in file_name:\n",
    "   \n",
    "    #this is checking to see if the file is in a certain format and if it is not in the file that stores those formats add it to the folder.\n",
    "     # if the above statement reads that is not in the desired location, then the program moves it the correct folder\n",
    "    if \".csv\" in file and not os.path.exists(path + \"csv files/\" + file):\n",
    "        shutil.move(path + file,path + \"csv files/\" + file)\n",
    "    elif \".txt\" in file and not os.path.exists(path + \"text files/\" + file):\n",
    "            shutil.move(path + file,path + \"text files/\" + file)\n",
    "    elif \".png\" in file and not os.path.exists(path + \"image files/\" + file):\n",
    "        shutil.move(path + file, path + \"image files/\"+ file) \n",
    "    else: \n",
    "        print(\"There are files in this path that were not moved!\")"
   ]
  },
  {
   "cell_type": "code",
   "execution_count": null,
   "id": "cc59720c-5b4e-4143-95e3-8414b328e188",
   "metadata": {},
   "outputs": [],
   "source": []
  },
  {
   "cell_type": "code",
   "execution_count": null,
   "id": "d6570f89-67f3-427d-81cf-abb8c1f36616",
   "metadata": {},
   "outputs": [],
   "source": []
  },
  {
   "cell_type": "code",
   "execution_count": null,
   "id": "3efeed89-cd97-4fd7-bce2-404ecf07f8f9",
   "metadata": {},
   "outputs": [],
   "source": []
  },
  {
   "cell_type": "code",
   "execution_count": null,
   "id": "f544cf57-fdbf-4e14-b006-647f90efa901",
   "metadata": {},
   "outputs": [],
   "source": []
  },
  {
   "cell_type": "code",
   "execution_count": null,
   "id": "5fdaf6df-6e84-4f86-87d0-083ecb4fb8db",
   "metadata": {},
   "outputs": [],
   "source": []
  },
  {
   "cell_type": "code",
   "execution_count": null,
   "id": "61f1147c-7e09-4449-bc1a-0626263edfd3",
   "metadata": {},
   "outputs": [],
   "source": []
  },
  {
   "cell_type": "code",
   "execution_count": null,
   "id": "3d7c21ab-f78e-4a0a-ad44-e812cbeacfb6",
   "metadata": {},
   "outputs": [],
   "source": []
  },
  {
   "cell_type": "code",
   "execution_count": null,
   "id": "73cf7074-7cc6-4fe0-99dd-671706c6892f",
   "metadata": {},
   "outputs": [],
   "source": []
  },
  {
   "cell_type": "code",
   "execution_count": null,
   "id": "718a5ec6-ae66-4aff-86ed-aa0075e0429a",
   "metadata": {},
   "outputs": [],
   "source": []
  },
  {
   "cell_type": "code",
   "execution_count": null,
   "id": "f099e824-8b55-44a1-a22f-73d4d12e0345",
   "metadata": {},
   "outputs": [],
   "source": []
  },
  {
   "cell_type": "code",
   "execution_count": null,
   "id": "246e835f-b983-478e-8fac-5417340fb3cc",
   "metadata": {},
   "outputs": [],
   "source": []
  },
  {
   "cell_type": "code",
   "execution_count": null,
   "id": "66de24e3-e3b9-42a8-b1da-e62d8b603a03",
   "metadata": {},
   "outputs": [],
   "source": []
  },
  {
   "cell_type": "code",
   "execution_count": null,
   "id": "367ec4f7-5016-4238-ab6d-e7a1ee08432c",
   "metadata": {},
   "outputs": [],
   "source": []
  },
  {
   "cell_type": "code",
   "execution_count": null,
   "id": "5d0bc4db-2048-4b30-9a3e-b562d40424a3",
   "metadata": {},
   "outputs": [],
   "source": []
  },
  {
   "cell_type": "code",
   "execution_count": null,
   "id": "0d3a2ea1-57f2-4a0c-8011-898ae983b51e",
   "metadata": {},
   "outputs": [],
   "source": []
  },
  {
   "cell_type": "code",
   "execution_count": null,
   "id": "d19e778d-c308-4795-be27-dcf9e7cb9c50",
   "metadata": {},
   "outputs": [],
   "source": []
  },
  {
   "cell_type": "code",
   "execution_count": null,
   "id": "2a790603-18af-4386-9f9e-74714fa66c1b",
   "metadata": {},
   "outputs": [],
   "source": []
  }
 ],
 "metadata": {
  "kernelspec": {
   "display_name": "Python 3 (ipykernel)",
   "language": "python",
   "name": "python3"
  },
  "language_info": {
   "codemirror_mode": {
    "name": "ipython",
    "version": 3
   },
   "file_extension": ".py",
   "mimetype": "text/x-python",
   "name": "python",
   "nbconvert_exporter": "python",
   "pygments_lexer": "ipython3",
   "version": "3.11.7"
  }
 },
 "nbformat": 4,
 "nbformat_minor": 5
}
